{
 "cells": [
  {
   "cell_type": "code",
   "execution_count": 1,
   "id": "70836170",
   "metadata": {},
   "outputs": [],
   "source": [
    "def ejercicio_binario(numero): #Se crea el procedimiento\n",
    "\n",
    "  binario = [] # la lista para guardar el binario\n",
    "\n",
    "  while numero != 0: # mientras el número de entrada sea diferente de cero\n",
    "      lista = numero % 2 #Vamos \n",
    "      cociente = numero // 2\n",
    "      binario.insert(0,lista) # guardamos el módulo calculado\n",
    "      numero = cociente # el cociente pasa a ser el número de entrada\n",
    "\n",
    "  print(binario)"
   ]
  },
  {
   "cell_type": "code",
   "execution_count": 3,
   "id": "d45f653a",
   "metadata": {},
   "outputs": [
    {
     "name": "stdout",
     "output_type": "stream",
     "text": [
      "Ingrese un número: 10\n",
      "[1, 0, 1, 0]\n"
     ]
    }
   ],
   "source": [
    "numero = int(input(\"Ingrese un número: \"))\n",
    "ejercicio_binario(numero)"
   ]
  }
 ],
 "metadata": {
  "kernelspec": {
   "display_name": "Python 3 (ipykernel)",
   "language": "python",
   "name": "python3"
  },
  "language_info": {
   "codemirror_mode": {
    "name": "ipython",
    "version": 3
   },
   "file_extension": ".py",
   "mimetype": "text/x-python",
   "name": "python",
   "nbconvert_exporter": "python",
   "pygments_lexer": "ipython3",
   "version": "3.9.7"
  }
 },
 "nbformat": 4,
 "nbformat_minor": 5
}
