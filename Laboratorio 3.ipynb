{
 "cells": [
  {
   "cell_type": "markdown",
   "id": "929f1c40",
   "metadata": {},
   "source": [
    "### EJERCICIO 1:\n",
    "\n",
    "Cree un procedimiento en Python dado un n\u0013umero entero en decimal despliegue su representación en número binario."
   ]
  },
  {
   "cell_type": "markdown",
   "id": "3d1bf255",
   "metadata": {},
   "source": [
    "def ejercicio_binario(numero): #Se crea el procedimiento\n",
    "\n",
    "  binario = [] # la lista para guardar el binario\n",
    "\n",
    "  while numero != 0: # mientras el número de entrada sea diferente de cero\n",
    "      lista = numero % 2 #Vamos \n",
    "      cociente = numero // 2\n",
    "      binario.insert(0,lista) # guardamos el módulo calculado\n",
    "      numero = cociente # el cociente pasa a ser el número de entrada\n",
    "\n",
    "  print(binario)"
   ]
  },
  {
   "cell_type": "code",
   "execution_count": 3,
   "id": "d45f653a",
   "metadata": {},
   "outputs": [
    {
     "name": "stdout",
     "output_type": "stream",
     "text": [
      "Ingrese un número: 10\n",
      "[1, 0, 1, 0]\n"
     ]
    }
   ],
   "source": [
    "numero = int(input(\"Ingrese un número: \"))\n",
    "ejercicio_binario(numero)"
   ]
  },
  {
   "cell_type": "markdown",
   "id": "7c388c09",
   "metadata": {},
   "source": [
    "### EJERCICIO 2:\n",
    "\n",
    "Desarrolle en Python una función que devuelva verdadero si un número entero que recibe\n",
    "como parámetro es primo y devuelva falso en el caso contrario."
   ]
  },
  {
   "cell_type": "code",
   "execution_count": 2,
   "id": "a503fd8c",
   "metadata": {},
   "outputs": [],
   "source": [
    "def ejercicio_primo(numero):  #Se crea la función\n",
    "\n",
    "  validacion = 0\n",
    "\n",
    "  for i in range(2, numero, 1):  #Se crea un ciclo for para dividir el número dentro de 2 al número - 1\n",
    "    if numero%i == 0:  #Si el residuo es 0, sumará uno al validador\n",
    "      validacion = validacion + 1\n",
    "    \n",
    "  if validacion == 0:  #Si el validador es 0, es primo porque ninguno número lo dividio sin residuo\n",
    "    print(\"Verdadero\")\n",
    "  else:\n",
    "    print(\"Falso\")  #Si el validaro es >0 si tiene un número que lo divide."
   ]
  },
  {
   "cell_type": "code",
   "execution_count": 3,
   "id": "a178a168",
   "metadata": {},
   "outputs": [
    {
     "name": "stdout",
     "output_type": "stream",
     "text": [
      "Ingrese un número: 20\n",
      "Falso\n"
     ]
    }
   ],
   "source": [
    "numero = int(input(\"Ingrese un número: \"))\n",
    "ejercicio_primo(numero)"
   ]
  },
  {
   "cell_type": "markdown",
   "id": "8ee69c0f",
   "metadata": {},
   "source": [
    "### EJERCICIO 3:\n",
    "\n",
    "Haga un programa en Python que dada una lista de n números, calcule la desviación estándar del conjunto de números, para este ejercicio no puede utilizar ninguna función que resuelva el problema."
   ]
  },
  {
   "cell_type": "code",
   "execution_count": 4,
   "id": "8ce91949",
   "metadata": {},
   "outputs": [],
   "source": [
    "import math  #Importamos la libreria math que usaremos para la función sqrt"
   ]
  },
  {
   "cell_type": "code",
   "execution_count": 5,
   "id": "35145c58",
   "metadata": {},
   "outputs": [
    {
     "name": "stdout",
     "output_type": "stream",
     "text": [
      "¿Cuantos números ingresará? 4\n",
      "Ingrese un número: 10\n",
      "Ingrese un número: 20\n",
      "Ingrese un número: 30\n",
      "Ingrese un número: 40\n",
      "\n",
      "Calculo de la desviación:\n",
      "Los números ingresados fueron: [10, 20, 30, 40]\n",
      "Paso 1: La suma de los valores es: 100\n",
      "Paso 2: El promedio de los valores es: 25.0\n",
      "Paso 3: La distancia de la media a cada dato es: 500.0\n",
      "Paso 4: El promedio de la distancia a cada dato es: 125.0\n",
      "Paso 5: La desviación Estandard es: 11.180339887498949\n"
     ]
    }
   ],
   "source": [
    "numeros = int(input(\"¿Cuantos números ingresará? \"))\n",
    "lista = []\n",
    "suma = 0\n",
    "resta = 0\n",
    "promedio = 0\n",
    "\n",
    "for i in range (0, numeros,1):\n",
    "  ingresos = (int(input(\"Ingrese un número: \")))\n",
    "  lista.append(ingresos)\n",
    "  suma = suma + ingresos\n",
    "  promedio = suma/(i+1)\n",
    "  \n",
    "#Calculo de media:\n",
    "promedio = suma / numeros\n",
    "\n",
    "#Calculo de la distancia a la media para cada dato\n",
    "\n",
    "for i in range (0,numeros, 1):\n",
    "  resta = resta + (promedio-lista[i])**2\n",
    "  promedio_resta = resta/(i+1)\n",
    "  desviacion = math.sqrt(promedio_resta)\n",
    "\n",
    "print(\"\")\n",
    "print(\"Calculo de la desviación:\")\n",
    "print(f\"Los números ingresados fueron: {lista}\")\n",
    "print(f\"Paso 1: La suma de los valores es: {suma}\")\n",
    "print(f\"Paso 2: El promedio de los valores es: {promedio}\")\n",
    "print(f\"Paso 3: La distancia de la media a cada dato es: {resta}\")\n",
    "print(f\"Paso 4: El promedio de la distancia a cada dato es: {promedio_resta}\")\n",
    "print(f\"Paso 5: La desviación Estandard es: {desviacion}\")"
   ]
  },
  {
   "cell_type": "markdown",
   "id": "2c105b43",
   "metadata": {},
   "source": [
    "### EJERCICIO 4:\n",
    "\n",
    "Desarrolle en Python una funcion que dado un arreglo de corra el algoritmo de ordenamiento burbuja y devuelva un nuevo arreglo ordenado. Posteriormente cree una funcion main para probar su funcion."
   ]
  },
  {
   "cell_type": "code",
   "execution_count": 6,
   "id": "4dec35d7",
   "metadata": {},
   "outputs": [],
   "source": [
    "import random"
   ]
  },
  {
   "cell_type": "code",
   "execution_count": 7,
   "id": "b9ddc9ef",
   "metadata": {},
   "outputs": [
    {
     "name": "stdout",
     "output_type": "stream",
     "text": [
      "\n",
      "El arreglo original aleatorio es: [15, 80, 15, 62, 3, 50, 23, 46, 89, 39]\n",
      "El arreglo ordenado es: [3, 15, 15, 23, 39, 46, 50, 62, 80, 89]\n"
     ]
    }
   ],
   "source": [
    "arreglo_aleatorio = []\n",
    "dato = 0\n",
    "\n",
    "#Se genera un arreglo aleatorio:\n",
    "\n",
    "for i in range (0,10,1):\n",
    "  dato = random.randint(1,100)\n",
    "  arreglo_aleatorio.append(dato)\n",
    "\n",
    "print(\"\")\n",
    "print(f\"El arreglo original aleatorio es: {arreglo_aleatorio}\")\n",
    "\n",
    "#Ordenamiento Burbuja:\n",
    "\n",
    "for i in range (1, len(arreglo_aleatorio),1):\n",
    "  for j in range(0,len(arreglo_aleatorio)-1,1):\n",
    "    if(arreglo_aleatorio[j+1] < arreglo_aleatorio[j]):\n",
    "      aux = arreglo_aleatorio[j];\n",
    "      arreglo_aleatorio[j]= arreglo_aleatorio[j+1];\n",
    "      arreglo_aleatorio[j+1] = aux;\n",
    "print(f\"El arreglo ordenado es: {arreglo_aleatorio}\")"
   ]
  },
  {
   "cell_type": "markdown",
   "id": "d519c98b",
   "metadata": {},
   "source": [
    "### EJERCICIO 5:\n",
    "\n",
    "Escriba una funcion en Python que dada una tupla de elementos (numeros o letras) esta se convierta a un string. Tomar nota del siguiente ejemplo:\n",
    "\n",
    "- Si la entrada fuera: (10, 20, 40, 5, 70)\n",
    "- La salida deberia ser: 102040570"
   ]
  },
  {
   "cell_type": "code",
   "execution_count": 8,
   "id": "1ce4aa6d",
   "metadata": {},
   "outputs": [
    {
     "name": "stdout",
     "output_type": "stream",
     "text": [
      "¿Cuantos datos ingresará? 4\n",
      "Ingrese el dato: 10\n",
      "Ingrese el dato: 20\n",
      "Ingrese el dato: 30\n",
      "Ingrese el dato: 40\n",
      "\n",
      "Datos ingresados: ['10', '20', '30', '40']\n",
      "string: 10203040\n"
     ]
    }
   ],
   "source": [
    "#Se consulta cuantos datos ingresará\n",
    "numeros = int(input(\"¿Cuantos datos ingresará? \"))\n",
    "lista = []\n",
    "texto = \"\"\n",
    "\n",
    "#Ciclo for para solicitar cada dato\n",
    "for i in range (0, numeros,1):\n",
    "  ingresos = input(\"Ingrese el dato: \")\n",
    "  lista.append(ingresos)\n",
    "\n",
    "#Se convierte la lista a tupla  \n",
    "tupla = tuple(lista)\n",
    "\n",
    "#Ciclo for para unir cada campo de la tupla\n",
    "for i in range (0, numeros,1):\n",
    "  texto = texto+tupla[i]\n",
    "\n",
    "#Se muestra la lista original y la tupla tipo string\n",
    "print(\"\")\n",
    "print(f\"Datos ingresados: {lista}\")\n",
    "print(f\"string: {texto}\")"
   ]
  },
  {
   "cell_type": "markdown",
   "id": "23b152e5",
   "metadata": {},
   "source": [
    "### EJERCICIO 6:\n",
    "\n",
    "Cree un programa en Python que dada una lista de tuplas, elimine las tuplas que estan vacias. Tomar nota de siguiente ejemplo:\n",
    "\n",
    "- Si la lista fuera: [(), (), ('X',), ('a', 'b'), ('a', 'b', 'c'), ('d')]\n",
    "- El resultado deber\u0013\u0010a ser: [('X'), ('a', 'b'), ('a', 'b', 'c'), 'd']"
   ]
  },
  {
   "cell_type": "code",
   "execution_count": 9,
   "id": "d7b482e5",
   "metadata": {},
   "outputs": [
    {
     "name": "stdout",
     "output_type": "stream",
     "text": [
      "La tupla original es: [(), (), ('X',), ('a', 'b'), ('a', 'b', 'c'), 'd', 'Erick', (), (20, 30)]\n",
      "El total de tuplas es: 9\n",
      "\n",
      "La tupla sin vacios es: [('X',), ('a', 'b'), ('a', 'b', 'c'), 'd', 'Erick', (20, 30)]\n",
      "El total de tuplas es: 6\n"
     ]
    }
   ],
   "source": [
    "#Tupla a utilizar\n",
    "\n",
    "tupla = [(), (), ('X',), ('a', 'b'), ('a', 'b', 'c'), ('d'),('Erick'),(),(20,30)]\n",
    "print(f\"La tupla original es: {tupla}\")\n",
    "print(f\"El total de tuplas es: {len(tupla)}\")\n",
    "\n",
    "#Se quitan tuplas vacias\n",
    "\n",
    "tupla = [i for i in tupla if i]\n",
    "\n",
    "#Se muestran la tupla final\n",
    "\n",
    "print()\n",
    "print(f\"La tupla sin vacios es: {tupla}\")\n",
    "print(f\"El total de tuplas es: {len(tupla)}\")"
   ]
  },
  {
   "cell_type": "markdown",
   "id": "2f683403",
   "metadata": {},
   "source": [
    "### EJERCICIO 7:\n",
    "\n",
    "\n",
    "Cree una funcion en Python que dada una tupla de tuplas con numeros, produzca una tupla con el promedio de cada tupla individual. Tomar nota del siguiente ejemplo:\n",
    "\n",
    "- Si la tupla de entrada fuera: ((10, 10, 10, 12), (30, 45, 56, 45), (81, 80, 39, 32))\n",
    "- El resultado deber\u0013\u0010a ser: (10.5, 44, 58)"
   ]
  },
  {
   "cell_type": "code",
   "execution_count": 10,
   "id": "128c3da8",
   "metadata": {},
   "outputs": [
    {
     "name": "stdout",
     "output_type": "stream",
     "text": [
      "La tupla original es: [(10, 10, 10, 12), (30, 45, 56, 45), (81, 80, 39, 32)]\n",
      "[10.5, 44.0, 58.0]\n"
     ]
    }
   ],
   "source": [
    "#Tupla a utilizar\n",
    "\n",
    "tupla = [(10, 10, 10, 12), (30, 45, 56, 45), (81, 80, 39, 32)]\n",
    "print(f\"La tupla original es: {tupla}\")\n",
    "len(tupla)\n",
    "\n",
    "#Se obtiene el promedio de cada tupla\n",
    "for i in range (0, len(tupla), 1):\n",
    "  tupla[i] = sum(tupla[i])/len(tupla[i])\n",
    "\n",
    "print(tupla)"
   ]
  }
 ],
 "metadata": {
  "kernelspec": {
   "display_name": "Python 3 (ipykernel)",
   "language": "python",
   "name": "python3"
  },
  "language_info": {
   "codemirror_mode": {
    "name": "ipython",
    "version": 3
   },
   "file_extension": ".py",
   "mimetype": "text/x-python",
   "name": "python",
   "nbconvert_exporter": "python",
   "pygments_lexer": "ipython3",
   "version": "3.9.7"
  }
 },
 "nbformat": 4,
 "nbformat_minor": 5
}
