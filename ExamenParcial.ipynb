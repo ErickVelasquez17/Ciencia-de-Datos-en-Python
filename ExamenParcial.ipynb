{
 "cells": [
  {
   "cell_type": "code",
   "execution_count": 1,
   "id": "0b357cf6",
   "metadata": {},
   "outputs": [],
   "source": [
    "import random\n",
    "import string"
   ]
  },
  {
   "cell_type": "code",
   "execution_count": 2,
   "id": "fc6903fa",
   "metadata": {},
   "outputs": [
    {
     "name": "stdout",
     "output_type": "stream",
     "text": [
      "El código es: M1L1F6C1G3Z7R6 este es No Valido, la suma da 25\n",
      "Presiona Enter para Generar Otro Código: \n",
      "El código es: S5I7S2U1S2B8I8 este es Valido, la suma da 33\n",
      "Presiona Enter para Generar Otro Código: \n",
      "El código es: D6J2E0T5B9T7E6 este es Valido, la suma da 35\n",
      "Presiona Enter para Generar Otro Código: \n",
      "El código es: B0Y7D5S7D5W8K6 este es Valido, la suma da 38\n",
      "Presiona Enter para Generar Otro Código: eXiT\n",
      "\n",
      "El contenido del diccionario es: {33: 'S5I7S2U1S2B8I8', 35: 'D6J2E0T5B9T7E6', 38: 'B0Y7D5S7D5W8K6'}\n",
      "La lista de invalidos es: ['M1L1F6C1G3Z7R6']\n"
     ]
    }
   ],
   "source": [
    "#Se declaran las variables a utilizar\n",
    "\n",
    "entrada = ''\n",
    "codigo = ''\n",
    "letra = ''\n",
    "numero = ''\n",
    "suma = 0\n",
    "lista = []\n",
    "diccionario = {}\n",
    "\n",
    "#Ciclo While para que repita el código hasta que ingrese la palabra \"Exit\" sin importar si es con mayusculas o minusculas porque se uso un Upper y así compararlo con \"EXIT\"\n",
    "\n",
    "while entrada.upper() != 'EXIT':\n",
    "\n",
    "  #Ciclo While para obtener el código de 7 letras y 7 digitos e irlos intercalando\n",
    "  for i in range (0,7,1):\n",
    "      letra = random.choice(string.ascii_letters)\n",
    "      numero = random.randint(0,9)\n",
    "      suma = suma + numero  #la variable \"Suma\" nos permitira ir sumando los números aleatorios para luego hacer el comparativo y si es valido o invalido.\n",
    "      codigo = codigo+letra.upper()+ str(numero)\n",
    "  \n",
    "  #Condicional para evaluar si la suma es mayor que 30 y guardarlo como lista o diccionario.\n",
    "  if suma > 30: #Aca se guarda el diccionario\n",
    "    filtro = \"Valido\"\n",
    "    diccionario[suma] = codigo\n",
    "  else:\n",
    "    filtro = \"No Valido\" #Aca se guarda el listado\n",
    "    lista.append(codigo)\n",
    "\n",
    "  print(f\"El código es: {codigo} este es {filtro}, la suma da {suma}\")\n",
    "  entrada = input(\"Presiona Enter para Generar Otro Código: \")\n",
    "  codigo = ''\n",
    "  suma = 0\n",
    "\n",
    "#Mostramos los resultados\n",
    "print(\"\")\n",
    "print(f\"El contenido del diccionario es: {diccionario}\")\n",
    "print(f\"La lista de invalidos es: {lista}\")\n",
    "  \n"
   ]
  }
 ],
 "metadata": {
  "kernelspec": {
   "display_name": "Python 3 (ipykernel)",
   "language": "python",
   "name": "python3"
  },
  "language_info": {
   "codemirror_mode": {
    "name": "ipython",
    "version": 3
   },
   "file_extension": ".py",
   "mimetype": "text/x-python",
   "name": "python",
   "nbconvert_exporter": "python",
   "pygments_lexer": "ipython3",
   "version": "3.9.7"
  }
 },
 "nbformat": 4,
 "nbformat_minor": 5
}
